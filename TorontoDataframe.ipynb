{
 "cells": [
  {
   "cell_type": "markdown",
   "metadata": {},
   "source": [
    "# Retrieve data from Wiki page"
   ]
  },
  {
   "cell_type": "code",
   "execution_count": 3,
   "metadata": {},
   "outputs": [
    {
     "name": "stdout",
     "output_type": "stream",
     "text": [
      "Collecting lxml\n",
      "\u001b[?25l  Downloading https://files.pythonhosted.org/packages/ec/be/5ab8abdd8663c0386ec2dd595a5bc0e23330a0549b8a91e32f38c20845b6/lxml-4.4.1-cp36-cp36m-manylinux1_x86_64.whl (5.8MB)\n",
      "\u001b[K     |████████████████████████████████| 5.8MB 29.1MB/s eta 0:00:01\n",
      "\u001b[?25hInstalling collected packages: lxml\n",
      "Successfully installed lxml-4.4.1\n",
      "[('Postcode', []), ('Borough', []), ('Neighbourhood\\n', [])]\n"
     ]
    }
   ],
   "source": [
    "# import html and requests to scrape the data from the webpage in html format\n",
    "!pip install lxml\n",
    "from lxml import html\n",
    "import requests\n",
    "\n",
    "# use the wikipedia url to save the html tree into a python variable\n",
    "\n",
    "wiki_url = 'https://en.wikipedia.org/wiki/List_of_postal_codes_of_Canada:_M'\n",
    "wiki_page = requests.get(wiki_url)\n",
    "tree = html.fromstring(wiki_page.content)\n",
    "\n",
    "# parse through table rows in html tree (xpath contains table row)\n",
    "tr_elements = tree.xpath('//tr')\n",
    "\n",
    "#empty list for table\n",
    "tab=[]\n",
    "i=0\n",
    "\n",
    "#For each row in the table, store each header for the column name and an empty list for each column\n",
    "for t in tr_elements[0]:\n",
    "    i+=1\n",
    "    name=t.text_content()\n",
    "    tab.append((name,[]))\n",
    "    \n",
    "print(tab)"
   ]
  },
  {
   "cell_type": "code",
   "execution_count": 4,
   "metadata": {},
   "outputs": [],
   "source": [
    "#Since our first row is the header, data is stored on the second row onwards\n",
    "for j in range(1,len(tr_elements)):\n",
    "    #T is our j'th row\n",
    "    T=tr_elements[j]\n",
    "    \n",
    "    #If row is not of size 3, the //tr data is not from our table \n",
    "    if len(T)!=3:\n",
    "        break\n",
    "    \n",
    "    #i is the index of our column\n",
    "    i=0\n",
    "    \n",
    "    #Iterate through each element of the row\n",
    "    for t in T.iterchildren():\n",
    "        data=t.text_content() \n",
    "        #Check if row is empty\n",
    "        if i>0:\n",
    "        #Convert any numerical value to integers\n",
    "            try:\n",
    "                data=int(data)\n",
    "            except:\n",
    "                pass\n",
    "        #Append the data to the empty list of the i'th column\n",
    "        tab[i][1].append(data)\n",
    "        #Increment i for the next column\n",
    "        i+=1"
   ]
  },
  {
   "cell_type": "markdown",
   "metadata": {},
   "source": [
    "# Store data in data frames"
   ]
  },
  {
   "cell_type": "code",
   "execution_count": 4,
   "metadata": {},
   "outputs": [
    {
     "name": "stdout",
     "output_type": "stream",
     "text": [
      "(288, 3)\n",
      "  Postcode           Borough     Neighbourhood\\n\n",
      "0      M1A      Not assigned      Not assigned\\n\n",
      "1      M2A      Not assigned      Not assigned\\n\n",
      "2      M3A        North York         Parkwoods\\n\n",
      "3      M4A        North York  Victoria Village\\n\n",
      "4      M5A  Downtown Toronto      Harbourfront\\n\n"
     ]
    }
   ],
   "source": [
    "# convert list to dictionary\n",
    "\n",
    "dict = {title:column for (title,column) in tab}\n",
    "\n",
    "# store dictionary in pandas dataframe\n",
    "\n",
    "import pandas as pd\n",
    "\n",
    "tor_df = pd.DataFrame(dict)\n",
    "print(tor_df.shape)\n",
    "print(tor_df.head())"
   ]
  },
  {
   "cell_type": "markdown",
   "metadata": {},
   "source": [
    "# Clean data"
   ]
  },
  {
   "cell_type": "code",
   "execution_count": null,
   "metadata": {},
   "outputs": [],
   "source": [
    "#The data in the dataframe needs to be organized. The first step is to rename the \"PostCode\" and \"Neighbourhood\\n\" columns to \"Postal Code\" and \"Neighborhood\"\n",
    "\n",
    "# rename Postal Code and Neighborhood column\n",
    "tor_df.rename(columns={'Postcode':'PostalCode', 'Neighbourhood\\n':'Neighborhood'}, inplace=True)\n",
    "tor_df.head()"
   ]
  },
  {
   "cell_type": "code",
   "execution_count": null,
   "metadata": {},
   "outputs": [],
   "source": [
    "# All of the values in the third column end with a \"\\n\" due to the html formatting specifying a new line or row in the table. This needs to be deleted in the dataframe.\n",
    "\n",
    "# replace the \"\\n\" in the third column with \"\"\n",
    "tor_df['Neighborhood'] = tor_df['Neighborhood'].str.replace('\\n','')\n",
    "tor_df.head()"
   ]
  },
  {
   "cell_type": "code",
   "execution_count": null,
   "metadata": {},
   "outputs": [],
   "source": [
    "# delete all of the values in the Borough column that equal \"Not assigned\".\n",
    "\n",
    "# count unnasigned values in borough\n",
    "print(tor_df[tor_df.Borough == 'Not assigned'].count())\n",
    "print('--------------')\n",
    "\n",
    "# ignore unassigned values in borough\n",
    "tor_df = tor_df[tor_df.Borough != 'Not assigned']\n",
    "\n",
    "# double check there are no not assigned values remaining in borough\n",
    "print(tor_df[tor_df.Borough == 'Not assigned'].count())"
   ]
  },
  {
   "cell_type": "markdown",
   "metadata": {},
   "source": [
    "group the data by postal code and join the neighborhoods with the same postal code separated by a comma. I used an aggregate function for this but I could not figure out how to keep the borough column in the dataframe without concatenating the same boroughs together as well.\n"
   ]
  },
  {
   "cell_type": "code",
   "execution_count": null,
   "metadata": {},
   "outputs": [],
   "source": [
    "# group by postal code and join the neighborhoods with the same postal code separated by a ','\n",
    "df_temp = tor_df.groupby('PostalCode').agg({'Neighborhood':', '.join})\n",
    "df_temp.reset_index(inplace=True)\n",
    "df_temp.head(10)"
   ]
  },
  {
   "cell_type": "markdown",
   "metadata": {},
   "source": [
    "To introduce the borough column back into the dataframe, I merge the temporary grouped dataframe from the previous cell with the original dataframe then delete the duplicate values. I then reorder the columns and reset the index."
   ]
  },
  {
   "cell_type": "code",
   "execution_count": null,
   "metadata": {},
   "outputs": [],
   "source": [
    "# merge the dataframes back together to get boroughs\n",
    "df_tor = pd.merge(df_temp[['PostalCode','Neighborhood']], tor_df[['PostalCode', 'Borough']], left_on = 'PostalCode', right_on = 'PostalCode', how = 'left')\n",
    "\n",
    "#drop duplicate postal code values\n",
    "df_tor.drop_duplicates(subset='PostalCode', inplace=True)\n",
    "\n",
    "#reorder colums and reset index\n",
    "df_tor = df_tor[['PostalCode', 'Borough', 'Neighborhood']]\n",
    "df_tor.reset_index(drop = True, inplace = True)\n",
    "\n",
    "df_tor.head(10)"
   ]
  },
  {
   "cell_type": "markdown",
   "metadata": {},
   "source": [
    "check if there are any unassigned values in neighborhood column that weren't dropped when I took out the unassigned values from the borough column. Turns out there is one unassigned value so I replace it with the corresponding borough value."
   ]
  },
  {
   "cell_type": "code",
   "execution_count": null,
   "metadata": {},
   "outputs": [],
   "source": [
    "# find if there are any not assigned values for neighborhood\n",
    "df_tor[df_tor.Neighborhood == 'Not assigned']"
   ]
  },
  {
   "cell_type": "code",
   "execution_count": null,
   "metadata": {},
   "outputs": [],
   "source": [
    "# replace not assigned value for neighborhood with the borough\n",
    "df_tor.loc[df_tor.Neighborhood == 'Not assigned', 'Neighborhood'] = df_tor.loc[df_tor.Neighborhood == 'Not assigned', 'Borough']\n",
    "df_tor[df_tor.PostalCode == 'M7A']"
   ]
  },
  {
   "cell_type": "markdown",
   "metadata": {},
   "source": [
    "### print the shape of the dataframe."
   ]
  },
  {
   "cell_type": "code",
   "execution_count": null,
   "metadata": {},
   "outputs": [],
   "source": [
    "print(df_tor.shape)"
   ]
  },
  {
   "cell_type": "code",
   "execution_count": null,
   "metadata": {},
   "outputs": [],
   "source": [
    "#print the entire table to prove that my data contains all of the boroughs in Toronto and not just Scarborough\n",
    "df_tor"
   ]
  }
 ],
 "metadata": {
  "kernelspec": {
   "display_name": "Python",
   "language": "python",
   "name": "conda-env-python-py"
  },
  "language_info": {
   "codemirror_mode": {
    "name": "ipython",
    "version": 3
   },
   "file_extension": ".py",
   "mimetype": "text/x-python",
   "name": "python",
   "nbconvert_exporter": "python",
   "pygments_lexer": "ipython3",
   "version": "3.6.7"
  }
 },
 "nbformat": 4,
 "nbformat_minor": 4
}
